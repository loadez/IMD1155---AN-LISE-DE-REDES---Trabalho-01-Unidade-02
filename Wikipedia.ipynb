{
  "nbformat": 4,
  "nbformat_minor": 0,
  "metadata": {
    "colab": {
      "name": "Cópia de Wikipedia.ipynb",
      "provenance": [],
      "collapsed_sections": []
    },
    "kernelspec": {
      "name": "python3",
      "display_name": "Python 3"
    },
    "language_info": {
      "name": "python"
    }
  },
  "cells": [
    {
      "cell_type": "markdown",
      "metadata": {
        "id": "Tirw9HnrTuau"
      },
      "source": [
        "# 1.0 Case Study: constructing a network of wikipedia pages"
      ]
    },
    {
      "cell_type": "markdown",
      "metadata": {
        "id": "ryNuGuF5aK6t"
      },
      "source": [
        "## 1.1 Introduction"
      ]
    },
    {
      "cell_type": "markdown",
      "metadata": {
        "id": "K4U4cYABYxsK"
      },
      "source": [
        "So far we have learned two ways of constructing a complex network:\n",
        "- from a CSV file \n",
        "- manually\n",
        "\n",
        "What is hard for small networks may be impossible for medium-to-large scale networks; it may be impossible even for small networks if you must repeat the analysis many\n",
        "times. The case study in this lesson shows you **how to construct a large\n",
        "network in an easy way**:  \n",
        "- automatically collecting node and edge data from the Internet.\n",
        "\n",
        "The other goal of this study (aside from mastering new network construction\n",
        "techniques) is quite pragmatic. \n",
        "- Wouldn’t you want to know where the **complex\n",
        "network analysis** fits in the context of other subjects and disciplines? \n",
        "\n",
        "An answer to this question is near at hand: [on Wikipedia](https://en.wikipedia.org/wiki/Complex_network).\n",
        "\n",
        "\n",
        "Let’s start with the Wikipedia page about complex networks—the seed page.\n",
        "(Unfortunately, there is no page on complex network analysis itself.) The page\n",
        "body has external links and links to other Wikipedia pages. Those other pages\n",
        "presumably are somewhat related to complex networks, or else why would\n",
        "the Wikipedia editors provide them?\n",
        "To build a network out of the seed page and other relevant pages, **let’s treat\n",
        "the pages (and the respective Wikipedia subjects) as the network nodes and\n",
        "the links between the pages as the network edges**. You will use snowball\n",
        "sampling (a breadth-first search or [BFS algorithm](https://en.wikipedia.org/wiki/Breadth-first_search)) to discover all the nodes and edges of interest.\n",
        "\n",
        "<img width=\"200\" src=\"https://drive.google.com/uc?export=view&id=1t9ZXB5Q-wRt_qWbf8eU_1RiTwVGaStHU\">\n",
        "\n",
        "As a result, you will have a network of all pages related to complex networks\n",
        "and hopefully, you will make some conclusions about it."
      ]
    },
    {
      "cell_type": "markdown",
      "metadata": {
        "id": "JnNVv00Aalcx"
      },
      "source": [
        "## 1.2 Get the Data, Build the Network"
      ]
    },
    {
      "cell_type": "markdown",
      "metadata": {
        "id": "5DofZOgJa9Nf"
      },
      "source": [
        "The first half of the project script consists of:\n",
        "\n",
        "1. the initialization prologue\n",
        "2. a heavy-duty loop that retrieves the Wikipedia pages and simultaneously builds the network of nodes and edges.\n",
        "\n",
        "Let’s first import all necessary modules. We will need:\n",
        "\n",
        "- the module **wikipedia** for fetching and exploring Wikipedia pages\n",
        "- the operator **itemgetter** for sorting a list of tuples\n",
        "- and, naturally, **networkx** itself.\n",
        "\n",
        "To target the **snowballing process**, define the constant **SEED, the name of the\n",
        "starting page**. \n",
        "\n",
        "> As a side note, by changing the name of the seed page, you can\n",
        "apply this analysis to any other subject on Wikipedia.\n",
        "\n",
        "\n",
        "Last but not least, when you start the snowballing, you will eventually (and\n",
        "quite soon) bump into the pages describing ISBN and ISSN numbers, the\n",
        "arXiv, PubMed, and the like. Almost all other Wikipedia pages refer to one or\n",
        "more of those pages. This hyper-connectedness transforms any network into\n",
        "a collection of almost perfect gigantic stars, making all Wikipedia-based networks\n",
        "look similar. **To avoid the stardom syndrome**, treat the known “star”\n",
        "pages as stop words in information retrieval—in other words, ignore any links\n",
        "to them. \n",
        "\n",
        "Constructing the **black list of stop words**, STOPS, is a matter of trial\n",
        "and error. We put thirteen subjects on it; you may want to add more when you\n",
        "come across other “stars.” We also excluded pages whose names begin with\n",
        "**\"List of\"**, because they are simply lists of other subjects."
      ]
    },
    {
      "cell_type": "code",
      "metadata": {
        "id": "zyD6-e-34h5P",
        "colab": {
          "base_uri": "https://localhost:8080/"
        },
        "outputId": "7f116299-1fbb-4f72-9ba5-aee2e6e95ab9"
      },
      "source": [
        "# always check the current version in github\n",
        "!pip install networkx==2.6.2"
      ],
      "execution_count": 1,
      "outputs": [
        {
          "output_type": "stream",
          "text": [
            "Requirement already satisfied: networkx==2.6.2 in /usr/local/lib/python3.7/dist-packages (2.6.2)\n"
          ],
          "name": "stdout"
        }
      ]
    },
    {
      "cell_type": "code",
      "metadata": {
        "id": "sQcOSXayXX1W",
        "colab": {
          "base_uri": "https://localhost:8080/"
        },
        "outputId": "a24095da-fee7-4a72-8efc-cec2cb54edf7"
      },
      "source": [
        "!pip install wikipedia"
      ],
      "execution_count": 2,
      "outputs": [
        {
          "output_type": "stream",
          "text": [
            "Collecting wikipedia\n",
            "  Downloading wikipedia-1.4.0.tar.gz (27 kB)\n",
            "Requirement already satisfied: beautifulsoup4 in /usr/local/lib/python3.7/dist-packages (from wikipedia) (4.6.3)\n",
            "Requirement already satisfied: requests<3.0.0,>=2.0.0 in /usr/local/lib/python3.7/dist-packages (from wikipedia) (2.23.0)\n",
            "Requirement already satisfied: certifi>=2017.4.17 in /usr/local/lib/python3.7/dist-packages (from requests<3.0.0,>=2.0.0->wikipedia) (2021.5.30)\n",
            "Requirement already satisfied: chardet<4,>=3.0.2 in /usr/local/lib/python3.7/dist-packages (from requests<3.0.0,>=2.0.0->wikipedia) (3.0.4)\n",
            "Requirement already satisfied: idna<3,>=2.5 in /usr/local/lib/python3.7/dist-packages (from requests<3.0.0,>=2.0.0->wikipedia) (2.10)\n",
            "Requirement already satisfied: urllib3!=1.25.0,!=1.25.1,<1.26,>=1.21.1 in /usr/local/lib/python3.7/dist-packages (from requests<3.0.0,>=2.0.0->wikipedia) (1.24.3)\n",
            "Building wheels for collected packages: wikipedia\n",
            "  Building wheel for wikipedia (setup.py) ... \u001b[?25l\u001b[?25hdone\n",
            "  Created wheel for wikipedia: filename=wikipedia-1.4.0-py3-none-any.whl size=11696 sha256=f63d1686c10bd38e45b79b009ab5ceae538650440aba672e89c472973e933881\n",
            "  Stored in directory: /root/.cache/pip/wheels/15/93/6d/5b2c68b8a64c7a7a04947b4ed6d89fb557dcc6bc27d1d7f3ba\n",
            "Successfully built wikipedia\n",
            "Installing collected packages: wikipedia\n",
            "Successfully installed wikipedia-1.4.0\n"
          ],
          "name": "stdout"
        }
      ]
    },
    {
      "cell_type": "code",
      "metadata": {
        "id": "MINWDN4gTzAC"
      },
      "source": [
        "from operator import itemgetter\n",
        "import networkx as nx\n",
        "import wikipedia"
      ],
      "execution_count": 3,
      "outputs": []
    },
    {
      "cell_type": "code",
      "metadata": {
        "id": "lVqdt1994G2J",
        "colab": {
          "base_uri": "https://localhost:8080/",
          "height": 35
        },
        "outputId": "bcdbdd0b-82ce-4b1f-c2bf-cc65c7c410e6"
      },
      "source": [
        "nx.__version__"
      ],
      "execution_count": 4,
      "outputs": [
        {
          "output_type": "execute_result",
          "data": {
            "application/vnd.google.colaboratory.intrinsic+json": {
              "type": "string"
            },
            "text/plain": [
              "'2.6.2'"
            ]
          },
          "metadata": {},
          "execution_count": 4
        }
      ]
    },
    {
      "cell_type": "code",
      "metadata": {
        "id": "YPTw8l5iT7z9"
      },
      "source": [
        "#https://en.wikipedia.org/wiki/Complex_network\n",
        "SEED = \"Complex network\".title()\n",
        "STOPS = (\"International Standard Serial Number\",\n",
        "         \"International Standard Book Number\",\n",
        "         \"National Diet Library\",\n",
        "         \"International Standard Name Identifier\",\n",
        "         \"International Standard Book Number (Identifier)\",\n",
        "         \"Pubmed Identifier\", \n",
        "         \"Pubmed Central\",\n",
        "         \"Digital Object Identifier\", \n",
        "         \"Arxiv\",\n",
        "         \"Proc Natl Acad Sci Usa\", \n",
        "         \"Bibcode\",\n",
        "         \"Library Of Congress Control Number\", \n",
        "         \"Jstor\",\n",
        "         \"Doi (Identifier)\",\n",
        "         \"Isbn (Identifier)\",\n",
        "         \"Pmid (Identifier)\",\n",
        "         \"Arxiv (Identifier)\",\n",
        "         \"Bibcode (Identifier)\")"
      ],
      "execution_count": 5,
      "outputs": []
    },
    {
      "cell_type": "markdown",
      "metadata": {
        "id": "ChlfDfm7YQNY"
      },
      "source": [
        "The next code fragment deals with setting up the **snowballing process**. A\n",
        "breadth-first search, or BFS (sometimes known to computer programmers\n",
        "as a snowballing algorithm), must remember which **pages have been already\n",
        "processed** and which have been **discovered but not yet processed**. \n",
        "- the former are stored in the set **done_set**; \n",
        "- the latter, in the list **todo_lst** and **todo_set**. \n",
        "\n",
        "You need two data structures for the unprocessed pages because you want to\n",
        "know whether a page has been already recorded (an unordered lookup, *todo_set*) and\n",
        "which page is the next to be processed (an ordered lookup, *todo_lst*). \n",
        "\n",
        "\n",
        "Snowballing an extensive network—and Wikipedia with 6,196,713 articles in\n",
        "the English segment alone can produce a huge network!—takes considerable\n",
        "time.\n",
        "\n",
        "<img width=\"300\" src=\"https://drive.google.com/uc?export=view&id=1cOpkuhQEHJ3UxQOP3hoCd3KzSlqyf1AG\">\n",
        "\n",
        "Suppose you start with one seed node, and let’s say it has $N\\approx 100$ neighbors.\n",
        "Each of them has $N$ neighbors, too, to the total of $\\approx N+N×N$ nodes. The\n",
        "third round of discovery adds $\\approx N×N×N$ more nodes. The time to shave each\n",
        "next layer of nodes grows exponentially. For this exercise, let’s process only\n",
        "the seed node itself and its immediate neighbors (layers 0 and 1). Processing\n",
        "layer 2 is still feasible, but layer 3 requires $N×N×N×N\\approx 10^8$ page downloads. To keep track of the distance from the currently processed node to the seed, store both the layer to which a node belongs and the node name together as a tuple on the **todo_lst** list."
      ]
    },
    {
      "cell_type": "code",
      "metadata": {
        "id": "sy1gJQxwYdNi"
      },
      "source": [
        "todo_lst = [(0, SEED)] # The SEED is in the layer 0\n",
        "todo_set = set(SEED) # The SEED itself\n",
        "done_set = set() # Nothing is done yet"
      ],
      "execution_count": 6,
      "outputs": []
    },
    {
      "cell_type": "markdown",
      "metadata": {
        "id": "FlcRZ49jYjSr"
      },
      "source": [
        "**The output of the exercise is a NetworkX graph**. The next fragment will create\n",
        "an empty directed graph that will later absorb discovered nodes and edges.\n",
        "\n",
        "> We choose a **directed graph** because the edges that represent HTML links\n",
        "are naturally directed: a link from page A to page B does not imply a reciprocal\n",
        "link. \n",
        "\n",
        "The same fragment primes the algorithm by extracting the first “to-do” item\n",
        "(both its layer and page name) from the namesake list.\n",
        "\n"
      ]
    },
    {
      "cell_type": "code",
      "metadata": {
        "id": "z04Y-it9g5OR"
      },
      "source": [
        "g = nx.DiGraph()\n",
        "layer, page = todo_lst[0]"
      ],
      "execution_count": 7,
      "outputs": []
    },
    {
      "cell_type": "markdown",
      "metadata": {
        "id": "cCe-Cq_4hGPH"
      },
      "source": [
        "It may take a fraction of a second to execute the first five lines of the script.\n",
        "It may take the whole next year or longer to finish the next twenty lines\n",
        "because they contain the main collection/construction loop of the project."
      ]
    },
    {
      "cell_type": "code",
      "metadata": {
        "id": "ucGHcQ4-hP4V",
        "colab": {
          "base_uri": "https://localhost:8080/"
        },
        "outputId": "904095d8-8ff6-471f-d8db-81df8dfbdf1b"
      },
      "source": [
        "%%time\n",
        "while layer < 2:\n",
        "  # Remove the name page of the current page from the todo_lst, \n",
        "  # and add it to the set of processed pages. \n",
        "  # If the script encounters this page again, it will skip over it.\n",
        "  del todo_lst[0]\n",
        "  done_set.add(page)\n",
        "  \n",
        "  # Show progress\n",
        "  print(layer, page) \n",
        "  \n",
        "  # Attempt to download the selected page.\n",
        "  try:\n",
        "    wiki = wikipedia.page(page)\n",
        "  except:\n",
        "    layer, page = todo_lst[0]\n",
        "    print(\"Could not load\", page)\n",
        "    continue\n",
        "  \n",
        "  for link in wiki.links:\n",
        "    link = link.title()\n",
        "    if link not in STOPS and not link.startswith(\"List Of\"):\n",
        "      if link not in todo_set and link not in done_set:\n",
        "        todo_lst.append((layer + 1, link))\n",
        "        todo_set.add(link)\n",
        "      g.add_edge(page, link)\n",
        "  layer, page = todo_lst[0]"
      ],
      "execution_count": 8,
      "outputs": [
        {
          "output_type": "stream",
          "text": [
            "0 Complex Network\n",
            "1 Adjacency List\n",
            "1 Adjacency Matrix\n",
            "1 Agent-Based Model\n",
            "1 Albert-László Barabási\n",
            "1 Artificial Neural Network\n",
            "1 Assortativity\n",
            "1 Autonomous System (Internet)\n",
            "1 Balance Theory\n",
            "1 Barabási–Albert Model\n",
            "1 Biological Network\n",
            "1 Biology\n",
            "1 Bipartite Graph\n",
            "1 Blockmodeling\n",
            "Could not load Boolean Network\n",
            "1 Boolean Network\n",
            "1 Branching Process\n",
            "1 Centrality\n",
            "1 Climate\n",
            "1 Climate Networks\n",
            "1 Clique (Graph Theory)\n",
            "1 Clustering Coefficient\n",
            "1 Combinatorial Optimization\n",
            "1 Community Structure\n",
            "1 Complete Graph\n",
            "1 Complex Networks\n",
            "1 Complex Adaptive System\n",
            "1 Complex Contagion\n",
            "1 Complex Systems\n",
            "1 Computer Network\n",
            "1 Computer Science\n",
            "1 Connected Component (Graph Theory)\n",
            "1 Connectome\n",
            "1 Cut (Graph Theory)\n",
            "1 Cycle (Graph Theory)\n",
            "1 Degree (Graph Theory)\n",
            "1 Degree Distribution\n",
            "1 Dependency Network\n",
            "1 Directed Graph\n",
            "1 Distance (Graph Theory)\n",
            "1 Dual-Phase Evolution\n",
            "1 Duncan J. Watts\n",
            "1 Dynamic Network Analysis\n",
            "1 Edge (Graph Theory)\n",
            "1 Efficiency (Network Science)\n",
            "1 Entropy (Information Theory)\n",
            "1 Epidemic Model\n",
            "1 Epidemiology\n",
            "1 Erdős–Rényi Model\n",
            "1 Evolving Networks\n",
            "1 Exponential Random Graph Models\n",
            "1 Fitness Model (Network Theory)\n",
            "1 Flow Network\n",
            "1 Frigyes Karinthy\n",
            "1 Graph (Abstract Data Type)\n",
            "1 Graph (Discrete Mathematics)\n",
            "1 Graph Drawing\n",
            "1 Herbert A. Simon\n",
            "1 Hierarchical Network Model\n",
            "1 Hierarchy\n",
            "1 Homophily\n",
            "1 Hyperbolic Geometric Graph\n",
            "1 Hypercube\n",
            "Could not load Hypergraph\n",
            "1 Hypergraph\n",
            "1 Issn (Identifier)\n",
            "1 Incidence List\n",
            "1 Incidence Matrix\n",
            "Could not load Interdependent Networks\n",
            "1 Interdependent Networks\n",
            "1 Lancichinetti–Fortunato–Radicchi Benchmark\n",
            "1 Lattice Graph\n",
            "1 Link Analysis\n",
            "1 Loop (Graph Theory)\n",
            "1 Mathematics\n",
            "1 Matthew Effect (Sociology)\n",
            "1 Maximum-Entropy Random Graph Model\n",
            "1 Metrics (Networking)\n",
            "1 Modularity (Networks)\n",
            "1 Multigraph\n",
            "1 Neighbourhood (Graph Theory)\n",
            "1 Network Controllability\n",
            "1 Network Effect\n",
            "1 Network Motif\n",
            "1 Network On A Chip\n",
            "1 Network Science\n",
            "1 Network Theory\n",
            "1 Pmc (Identifier)\n",
            "1 Path (Graph Theory)\n",
            "1 Percolation\n",
            "1 Percolation Theory\n",
            "1 Physics\n"
          ],
          "name": "stdout"
        },
        {
          "output_type": "stream",
          "text": [
            "/usr/local/lib/python3.7/dist-packages/wikipedia/wikipedia.py:389: UserWarning: No parser was explicitly specified, so I'm using the best available HTML parser for this system (\"lxml\"). This usually isn't a problem, but if you run this code on another system, or in a different virtual environment, it may use a different parser and behave differently.\n",
            "\n",
            "The code that caused this warning is on line 389 of the file /usr/local/lib/python3.7/dist-packages/wikipedia/wikipedia.py. To get rid of this warning, pass the additional argument 'features=\"lxml\"' to the BeautifulSoup constructor.\n",
            "\n",
            "  lis = BeautifulSoup(html).find_all('li')\n"
          ],
          "name": "stderr"
        },
        {
          "output_type": "stream",
          "text": [
            "Could not load Poisson Distribution\n",
            "1 Poisson Distribution\n",
            "Could not load Power-Law\n",
            "1 Power-Law\n",
            "1 Power Law\n",
            "1 Preferential Attachment\n",
            "1 Random Geometric Graph\n",
            "1 Random Graph\n",
            "1 Random Graph Theory Of Gelation\n",
            "1 Random Regular Graphs\n",
            "1 Reciprocity (Network Science)\n",
            "1 Reciprocity In Network\n",
            "1 Regular Lattices\n",
            "1 S2Cid (Identifier)\n",
            "1 Sir Model\n",
            "1 Scale-Free Network\n",
            "1 Scale-Free Networks\n",
            "1 Scientific Collaboration Network\n",
            "1 Semantic Network\n",
            "1 Six Degrees Of Separation\n",
            "1 Small-World Network\n",
            "1 Small-World Networks\n",
            "1 Small-World Phenomenon\n",
            "1 Small World Networks\n",
            "1 Social Capital\n",
            "1 Social Influence\n",
            "1 Social Network\n",
            "1 Social Network Analysis Software\n",
            "1 Sociology\n",
            "1 Soft Configuration Model\n",
            "1 Spatial Network\n",
            "1 Stanley Milgram\n",
            "1 Steven Strogatz\n",
            "1 Stochastic Block Model\n",
            "1 Telecommunications Network\n",
            "1 Topological\n",
            "1 Transitive Relation\n",
            "1 Transport Network\n",
            "1 Triadic Closure\n",
            "1 Trophic Coherence\n",
            "1 Vertex (Graph Theory)\n",
            "1 Watts And Strogatz Model\n",
            "1 Weighted Network\n",
            "1 World Wide Web\n",
            "1 Yule-Simon Distribution\n",
            "CPU times: user 6.8 s, sys: 462 ms, total: 7.26 s\n",
            "Wall time: 1min 23s\n"
          ],
          "name": "stdout"
        }
      ]
    },
    {
      "cell_type": "code",
      "metadata": {
        "id": "JrtewM_hPqJa",
        "colab": {
          "base_uri": "https://localhost:8080/"
        },
        "outputId": "f4a62629-1583-4031-ebb6-df6506bf9145"
      },
      "source": [
        "print(\"{} nodes, {} edges\".format(len(g), nx.number_of_edges(g)))"
      ],
      "execution_count": 9,
      "outputs": [
        {
          "output_type": "stream",
          "text": [
            "13670 nodes, 25609 edges\n"
          ],
          "name": "stdout"
        }
      ]
    },
    {
      "cell_type": "markdown",
      "metadata": {
        "id": "LMX9A1-Nh-8B"
      },
      "source": [
        "The network of interest is now in the variable g. But it is “dirty”: inaccurate, incomplete, and erroneous."
      ]
    },
    {
      "cell_type": "markdown",
      "metadata": {
        "id": "qS911QoZMzb7"
      },
      "source": [
        "## 1.3 Eliminate Duplicates"
      ]
    },
    {
      "cell_type": "markdown",
      "metadata": {
        "id": "UJ_c2SOHNa7O"
      },
      "source": [
        "Many Wikipedia pages exist under two or more names. For example, there\n",
        "are pages about **Complex Network** and **Complex Networks**. The latter redirects\n",
        "to the former, but NetworkX does not know about the redirection.\n",
        "\n",
        "Accurately merging all duplicate nodes involves **natural language processing\n",
        "(NLP) tools that are outside of the scope of this course**. It may suffice to join\n",
        "only those nodes that differ by the presence/absence of the letter s at the end\n",
        "or a hyphen in the middle.\n",
        "\n",
        "Start removing self-loops (pages referring to themselves). The loops don’t change\n",
        "the network properties but affect the correctness of duplicate node elimination.\n",
        "Now, you need a list of at least some duplicate nodes. You can build it by\n",
        "looking at each node in g and checking if a node with the same name, but\n",
        "with an s at the end, is also in g. \n",
        "\n",
        "Pass each pair of duplicated node names to the function **nx.contracted_nodes(g,u,v)** that merges node v into node u in the graph g. The function reassigns all edges previously incident to v, to u. If you don’t pass the option **self_loops=False**, the function converts an edge from v to u (if any) to a self-loop."
      ]
    },
    {
      "cell_type": "code",
      "metadata": {
        "id": "8VkbRjFcBQaX"
      },
      "source": [
        "# make a copy of raw graph\n",
        "original = g.copy()"
      ],
      "execution_count": 10,
      "outputs": []
    },
    {
      "cell_type": "code",
      "metadata": {
        "id": "UFrNIuluN1__",
        "colab": {
          "base_uri": "https://localhost:8080/"
        },
        "outputId": "28de2071-c658-48a6-9bc5-90eb8254e973"
      },
      "source": [
        "# remove self loops\n",
        "g.remove_edges_from(nx.selfloop_edges(g))\n",
        "\n",
        "# identify duplicates like that: 'network' and 'networks'\n",
        "duplicates = [(node, node + \"s\") \n",
        "              for node in g if node + \"s\" in g\n",
        "             ]\n",
        "\n",
        "for dup in duplicates:\n",
        "  # *dup is a technique named 'unpacking'\n",
        "  g = nx.contracted_nodes(g, *dup, self_loops=False)\n",
        "\n",
        "print(duplicates)\n",
        "\n",
        "duplicates = [(x, y) for x, y in \n",
        "              [(node, node.replace(\"-\", \" \")) for node in g]\n",
        "                if x != y and y in g]\n",
        "print(duplicates)\n",
        "\n",
        "for dup in duplicates:\n",
        "  g = nx.contracted_nodes(g, *dup, self_loops=False)\n",
        "\n",
        "# nx.contracted creates a new node/edge attribute called contraction\n",
        "# the value of the attribute is a dictionary, but GraphML\n",
        "# does not support dictionary attributes\n",
        "nx.set_node_attributes(g, 0,\"contraction\")\n",
        "nx.set_edge_attributes(g, 0,\"contraction\")"
      ],
      "execution_count": 11,
      "outputs": [
        {
          "output_type": "stream",
          "text": [
            "[('Complex Network', 'Complex Networks'), ('Complex Adaptive System', 'Complex Adaptive Systems'), ('Computer Science', 'Computer Sciences'), ('Random Graph', 'Random Graphs'), ('Scale-Free Network', 'Scale-Free Networks'), ('Semantic Network', 'Semantic Networks'), ('Small-World Network', 'Small-World Networks'), ('Social Network', 'Social Networks'), ('Weighted Network', 'Weighted Networks'), ('Graph Database', 'Graph Databases'), ('Data Structure', 'Data Structures'), ('Eigenvector', 'Eigenvectors'), ('Real Number', 'Real Numbers'), ('Ant Colony Optimization Algorithm', 'Ant Colony Optimization Algorithms'), ('Complex System', 'Complex Systems'), ('Multi-Agent System', 'Multi-Agent Systems'), ('Partial Differential Equation', 'Partial Differential Equations'), ('Social Science', 'Social Sciences'), ('Artificial Neuron', 'Artificial Neurons'), ('Coupled Map Lattice', 'Coupled Map Lattices'), ('Fractal', 'Fractals'), ('Genetic Algorithm', 'Genetic Algorithms'), ('Hyperparameter', 'Hyperparameters'), ('Neuron', 'Neurons'), ('Ordinary Differential Equation', 'Ordinary Differential Equations'), ('Probability Distribution', 'Probability Distributions'), ('Recurrent Neural Network', 'Recurrent Neural Networks'), ('Statistic', 'Statistics'), ('Synapse', 'Synapses'), ('Internet Service Provider', 'Internet Service Providers'), ('Biological System', 'Biological Systems'), ('Food Web', 'Food Webs'), ('Gene Regulatory Network', 'Gene Regulatory Networks'), ('Metabolic Network', 'Metabolic Networks'), ('Ancient Greek', 'Ancient Greeks'), ('Atmospheric Science', 'Atmospheric Sciences'), ('Continent', 'Continents'), ('Earth Science', 'Earth Sciences'), ('Ecosystem', 'Ecosystems'), ('Igneous Rock', 'Igneous Rocks'), ('Mineral', 'Minerals'), ('Organism', 'Organisms'), ('Sediment', 'Sediments'), ('Tectonic Plate', 'Tectonic Plates'), ('Planar Graph', 'Planar Graphs'), ('Clique', 'Cliques'), ('Differential Equation', 'Differential Equations'), ('Dynamical System', 'Dynamical Systems'), ('Nonlinear Dynamical System', 'Nonlinear Dynamical Systems'), ('Social Movement', 'Social Movements'), ('Organisation', 'Organisations'), ('Thermodynamic', 'Thermodynamics'), ('Computer', 'Computers'), ('Geographic Information System', 'Geographic Information Systems'), ('Http', 'Https'), ('Randomized Algorithm', 'Randomized Algorithms'), ('Punched Card', 'Punched Cards'), ('Disjoint Set', 'Disjoint Sets'), ('Commutative Diagram', 'Commutative Diagrams'), ('Random Variable', 'Random Variables'), ('Telecommunication', 'Telecommunications'), ('Epidemic', 'Epidemics'), ('Infection', 'Infections'), ('Waterborne Disease', 'Waterborne Diseases'), ('Amino Acid', 'Amino Acids'), ('Clinical Trial', 'Clinical Trials'), ('Enzyme', 'Enzymes'), ('Epidemiological Method', 'Epidemiological Methods'), ('Molecule', 'Molecules'), ('Phylogenetic Tree', 'Phylogenetic Trees'), ('Expert', 'Experts'), ('Interpersonal Relationship', 'Interpersonal Relationships'), ('Organization', 'Organizations'), ('Social Group', 'Social Groups'), ('Virtue', 'Virtues'), ('Power-Law Distribution', 'Power-Law Distributions'), ('Search Engine', 'Search Engines'), ('Neural Network', 'Neural Networks'), (\"Gödel'S Incompleteness Theorem\", \"Gödel'S Incompleteness Theorems\"), ('Mathematical Science', 'Mathematical Sciences'), ('Exponential Random Graph Model', 'Exponential Random Graph Models'), ('Open Standard', 'Open Standards'), ('Web Site', 'Web Sites'), ('Binomial Coefficient', 'Binomial Coefficients'), ('Critical Exponent', 'Critical Exponents'), ('Random Regular Graph', 'Random Regular Graphs'), ('Semigroup', 'Semigroups'), ('Random Network', 'Random Networks'), ('Small World Network', 'Small World Networks'), ('Co-Occurrence Network', 'Co-Occurrence Networks'), ('Marxist', 'Marxists'), ('Economic', 'Economics'), ('Formal Organization', 'Formal Organizations'), ('Social Interaction', 'Social Interactions'), ('Hermeneutic', 'Hermeneutics'), ('Nation State', 'Nation States'), ('Semiotic', 'Semiotics'), ('Social Action', 'Social Actions'), ('Mathematician', 'Mathematicians'), ('Radio Wave', 'Radio Waves'), ('Mathematical Object', 'Mathematical Objects'), ('Trophic Level', 'Trophic Levels'), ('Tweedie Distribution', 'Tweedie Distributions')]\n",
            "[('Power-Law', 'Power Law'), ('Scale-Free Network', 'Scale Free Network'), ('Small-World Network', 'Small World Network'), ('Small-World Phenomenon', 'Small World Phenomenon'), ('(0,1)-Matrix', '(0,1) Matrix'), ('Mean-Squared Error', 'Mean Squared Error'), ('Very-Large-Scale Integration', 'Very Large Scale Integration'), ('Prentice-Hall', 'Prentice Hall'), ('Time-Series', 'Time Series'), ('World-Systems Theory', 'World Systems Theory'), ('Small-World Experiment', 'Small World Experiment'), ('Packet-Switched Network', 'Packet Switched Network'), ('Probability-Generating Function', 'Probability Generating Function'), ('Finite-State Machine', 'Finite State Machine'), ('Carnegie-Mellon University', 'Carnegie Mellon University'), ('Ha-Joon Chang', 'Ha Joon Chang'), ('Problem-Solving', 'Problem Solving'), ('Power-Law Distribution', 'Power Law Distribution'), ('Data-Analysis', 'Data Analysis'), ('Emmanuel-Joseph Sieyès', 'Emmanuel Joseph Sieyès'), ('Next-Generation Network', 'Next Generation Network')]\n"
          ],
          "name": "stdout"
        }
      ]
    },
    {
      "cell_type": "code",
      "metadata": {
        "id": "Bqe2ruDmPcNH",
        "colab": {
          "base_uri": "https://localhost:8080/"
        },
        "outputId": "b2ef599d-c94a-4e57-b849-a74fcf529c93"
      },
      "source": [
        "print(\"{} nodes, {} edges\".format(len(g), nx.number_of_edges(g)))"
      ],
      "execution_count": 12,
      "outputs": [
        {
          "output_type": "stream",
          "text": [
            "13546 nodes, 24385 edges\n"
          ],
          "name": "stdout"
        }
      ]
    },
    {
      "cell_type": "markdown",
      "metadata": {
        "id": "TulPj3ZQQAS8"
      },
      "source": [
        "## 1.4 Truncate the network"
      ]
    },
    {
      "cell_type": "markdown",
      "metadata": {
        "id": "cGjVZK35URcH"
      },
      "source": [
        "Why did you go through all those Wikipedia troubles? First, to construct a\n",
        "network of subjects related to complex networks—and here it is. Second, to\n",
        "find other significant topics related to complex networks. **But what is the\n",
        "measure of significance?**\n",
        "\n",
        "\n",
        "You will discover a variety of network measures latter in this course. For now, let’s concentrate on a **node indegree**—the number of edges directed into the node. (In the same spirit, the number of edges directed out of the node is called **outdegree**.) The indegree of a node equals the number of HTML links pointing to the respective page. **If a page has a lot of links to it, the topic of the page must be significant.**\n",
        "\n",
        "\n",
        "The choice of indegree as a yardstick of significance incidentally makes it\n",
        "possible to shrink the graph size by almost 75 percent. The extracted graph\n",
        "has 13,401 nodes and 24104 edges—an average of 1.79 edges per node. **Most\n",
        "of the nodes have only one connection**. (Interestingly, there are no isolated\n",
        "nodes with no connection in the graph. Even if they exist, you will not find\n",
        "them because of the way snowballing works.) **You can remove all nodes with\n",
        "only one incident edge to make the network more compact and less hairy\n",
        "without hurting the final results**."
      ]
    },
    {
      "cell_type": "code",
      "metadata": {
        "id": "AaHxaOwMLW9B",
        "colab": {
          "base_uri": "https://localhost:8080/",
          "height": 407
        },
        "outputId": "eaa1c512-996a-438d-be14-5e120e5e5f86"
      },
      "source": [
        "from matplotlib import pyplot as plt\n",
        "plt.style.use(\"default\")\n",
        "# degree sequence\n",
        "degree_sequence = sorted([d for n, d in g.degree()], reverse=True)  \n",
        "fig, ax = plt.subplots(1,2,figsize=(8,4))\n",
        "\n",
        "# all_data has information about degree_sequence and the width of each bin\n",
        "ax[0].hist(degree_sequence)\n",
        "ax[1].hist(degree_sequence,bins=[1,2,3,4,5,6,7,8,9,10])\n",
        "\n",
        "ax[0].set_title(\"Degree Histogram\")\n",
        "ax[0].set_ylabel(\"Count\")\n",
        "ax[0].set_xlabel(\"Degree\")\n",
        "ax[0].set_ylim(0,15000)\n",
        "\n",
        "ax[1].set_title(\"Degree Histogram - Zoom\")\n",
        "ax[1].set_ylabel(\"Count\")\n",
        "ax[1].set_xlabel(\"Degree\")\n",
        "ax[1].set_xlim(0,10)\n",
        "ax[1].set_ylim(0,15000)\n",
        "\n",
        "plt.tight_layout()\n",
        "plt.show()"
      ],
      "execution_count": 13,
      "outputs": [
        {
          "output_type": "display_data",
          "data": {
            "image/png": "[encoded data removed]",
            "text/plain": [
              "<Figure size 800x400 with 2 Axes>"
            ]
          },
          "metadata": {}
        }
      ]
    },
    {
      "cell_type": "code",
      "metadata": {
        "id": "Br8-5IGIUbVT",
        "colab": {
          "base_uri": "https://localhost:8080/"
        },
        "outputId": "68b62bc5-e3e3-4b99-b599-7c56909a1bf8"
      },
      "source": [
        "# filter nodes with degree greater than or equal to 2\n",
        "core = [node for node, deg in dict(g.degree()).items() if deg >= 2]\n",
        "\n",
        "# select a subgraph with 'core' nodes\n",
        "gsub = nx.subgraph(g, core)\n",
        "\n",
        "print(\"{} nodes, {} edges\".format(len(gsub), nx.number_of_edges(gsub)))\n",
        "\n",
        "nx.write_graphml(gsub, \"cna.graphml\")"
      ],
      "execution_count": 14,
      "outputs": [
        {
          "output_type": "stream",
          "text": [
            "3235 nodes, 14074 edges\n"
          ],
          "name": "stdout"
        }
      ]
    },
    {
      "cell_type": "code",
      "metadata": {
        "id": "GD2AghG1eXMB",
        "colab": {
          "base_uri": "https://localhost:8080/"
        },
        "outputId": "ae20701b-09cf-447d-b523-90fd4eaf3265"
      },
      "source": [
        "print(\"Nodes removed: {:.2f}%\".format(100*(1 - 3195/13899)))\n",
        "print(\"Edges removed: {:.2f}%\".format(100*(1 - 13899/24105)))\n",
        "print(\"Edges per nodes: {:.2f}\".format(13899/3195))"
      ],
      "execution_count": 15,
      "outputs": [
        {
          "output_type": "stream",
          "text": [
            "Nodes removed: 77.01%\n",
            "Edges removed: 42.34%\n",
            "Edges per nodes: 4.35\n"
          ],
          "name": "stdout"
        }
      ]
    },
    {
      "cell_type": "markdown",
      "metadata": {
        "id": "YSELbSFCX__7"
      },
      "source": [
        "As you can see, the following code fragment safely removes 77 percent of the\n",
        "nodes and 42 percent of the edges, raising the average number of edges per\n",
        "node to 4.35."
      ]
    },
    {
      "cell_type": "markdown",
      "metadata": {
        "id": "5zRjfGLtZ2qB"
      },
      "source": [
        "## 1.5 Explore the network"
      ]
    },
    {
      "cell_type": "markdown",
      "metadata": {
        "id": "RUMyWlK7jqkX"
      },
      "source": [
        "The following figure is a [Gephi](https://gephi.org/) rendering of **gsub**. Node\n",
        "and label font sizes represent the indegrees (a filter was added in gephi just to show only node with indegree greater than 50). The most in-connected, most significant\n",
        "nodes are in the upper-left corner of the network. What are they?\n",
        "\n",
        "<img width=\"600\" src=\"https://drive.google.com/uc?export=view&id=1Cemnpe6yBttyZ8Vw2i9ifMiWx9psIV7C\">\n",
        "\n",
        "\n",
        "The last code fragment of the exercise efficiently calculates the answer by\n",
        "calling the method **gsub.in_degree()**. The method (and its sister method **gsub.out_degree()**)\n",
        "are very similar to **gsub.degree()** except that they report different edge counts in the form of objects InDegreeView and OutDegreeView, respectively."
      ]
    },
    {
      "cell_type": "code",
      "metadata": {
        "id": "gwlRxZ2kmDL-",
        "colab": {
          "base_uri": "https://localhost:8080/"
        },
        "outputId": "d93e384f-6f2e-4c73-d9bb-21662e49b231"
      },
      "source": [
        "top_indegree = sorted(dict(gsub.in_degree()).items(),\n",
        "                      reverse=True, key=itemgetter(1))[:100]\n",
        "print(\"\\n\".join(map(lambda t: \"{} {}\".format(*reversed(t)), top_indegree)))"
      ],
      "execution_count": 16,
      "outputs": [
        {
          "output_type": "stream",
          "text": [
            "69 Graph (Discrete Mathematics)\n",
            "66 S2Cid (Identifier)\n",
            "65 Vertex (Graph Theory)\n",
            "59 Directed Graph\n",
            "58 Pmc (Identifier)\n",
            "57 Social Network\n",
            "56 Issn (Identifier)\n",
            "54 Network Theory\n",
            "54 Degree (Graph Theory)\n",
            "54 Adjacency Matrix\n",
            "53 Network Science\n",
            "51 Graph Drawing\n",
            "51 Small-World Network\n",
            "51 Complete Graph\n",
            "51 Bipartite Graph\n",
            "51 Path (Graph Theory)\n",
            "51 Edge (Graph Theory)\n",
            "50 Complex Network\n",
            "50 Graph (Abstract Data Type)\n",
            "50 Blockmodeling\n",
            "49 Incidence Matrix\n",
            "49 Centrality\n",
            "49 Social Capital\n",
            "49 Social Network Analysis Software\n",
            "49 Graph Theory\n",
            "49 Cycle (Graph Theory)\n",
            "48 Multigraph\n",
            "48 Scale-Free Network\n",
            "48 Complex Contagion\n",
            "48 Loop (Graph Theory)\n",
            "47 Clustering Coefficient\n",
            "46 Adjacency List\n",
            "46 Preferential Attachment\n",
            "46 Hypergraph\n",
            "45 Distance (Graph Theory)\n",
            "45 Percolation Theory\n",
            "44 Flow Network\n",
            "44 Agent-Based Model\n",
            "44 Random Graph\n",
            "44 Transitive Relation\n",
            "44 Connected Component (Graph Theory)\n",
            "44 Degree Distribution\n",
            "44 Watts And Strogatz Model\n",
            "44 Clique (Graph Theory)\n",
            "43 Computer Network\n",
            "43 Barabási–Albert Model\n",
            "43 Erdős–Rényi Model\n",
            "43 Neighbourhood (Graph Theory)\n",
            "43 Semantic Network\n",
            "43 Network Motif\n",
            "43 Weighted Network\n",
            "43 Artificial Neural Network\n",
            "42 Community Structure\n",
            "42 Link Analysis\n",
            "42 Triadic Closure\n",
            "42 Cut (Graph Theory)\n",
            "42 Fitness Model (Network Theory)\n",
            "42 Telecommunications Network\n",
            "42 Combinatorial Optimization\n",
            "42 Biological Network\n",
            "41 Network Effect\n",
            "41 Balance Theory\n",
            "41 Stochastic Block Model\n",
            "41 Lancichinetti–Fortunato–Radicchi Benchmark\n",
            "41 Network Controllability\n",
            "41 Metrics (Networking)\n",
            "41 Sir Model\n",
            "41 Boolean Network\n",
            "41 Incidence List\n",
            "41 Social Influence\n",
            "41 Interdependent Networks\n",
            "41 Dependency Network\n",
            "41 Citeseerx (Identifier)\n",
            "41 Epidemic Model\n",
            "41 Evolving Networks\n",
            "41 Transport Network\n",
            "40 Homophily\n",
            "40 Efficiency (Network Science)\n",
            "40 Modularity (Networks)\n",
            "40 Assortativity\n",
            "40 Soft Configuration Model\n",
            "40 Hyperbolic Geometric Graph\n",
            "40 Maximum-Entropy Random Graph Model\n",
            "40 Network On A Chip\n",
            "40 Random Geometric Graph\n",
            "40 Exponential Random Graph Model\n",
            "40 Scientific Collaboration Network\n",
            "40 Spatial Network\n",
            "40 Hierarchical Network Model\n",
            "39 Reciprocity (Network Science)\n",
            "28 Jstor (Identifier)\n",
            "28 Social Network Analysis\n",
            "28 Hdl (Identifier)\n",
            "27 Mathematics\n",
            "25 Computer Science\n",
            "23 Oclc (Identifier)\n",
            "21 Statistic\n",
            "19 Wayback Machine\n",
            "18 Machine Learning\n",
            "17 Mr (Identifier)\n"
          ],
          "name": "stdout"
        }
      ]
    },
    {
      "cell_type": "markdown",
      "metadata": {
        "id": "6PQT-sl0mulb"
      },
      "source": [
        "**Exercise**\n",
        "\n",
        "<img width=\"100\" src=\"https://drive.google.com/uc?export=view&id=1E8tR7B9YYUXsU_rddJAyq0FrM0MSelxZ\">\n",
        "\n",
        "\n",
        "- This section presented a complete complex network construction case study,\n",
        "starting from the raw data in the form of HTML pages, all the way to an analyzable\n",
        "annotated network graph and a simple exploratory exercise. This is\n",
        "a good foundation for more systematic complex network studies. Now is your turn, choice a topic of your interest and reproduce yourself a complet complex network case study. \n",
        "\n",
        "- Some examples (not limited to):\n",
        "\n",
        "  - https://en.wikipedia.org/wiki/Black_Lives_Matter\n",
        "  - https://en.wikipedia.org/wiki/COVID-19\n",
        "  - https://en.wikipedia.org/wiki/Harry_Potter\n",
        "  - https://en.wikipedia.org/wiki/Sherlock_Holmes\n",
        "  - https://en.wikipedia.org/wiki/Augusto_Severo_de_Albuquerque_Maranh%C3%A3o\n",
        "  - https://en.wikipedia.org/wiki/Brazil\n",
        "  - https://en.wikipedia.org/wiki/Bitcoin\n",
        "  - https://en.wikipedia.org/wiki/Federal_University_of_Rio_Grande_do_Norte\n",
        "  - https://en.wikipedia.org/wiki/Petrobras\n",
        "  - https://en.wikipedia.org/wiki/List_of_presidents_of_Brazil\n",
        "- Explore some metrics studied in Unit 01 to highlight insights in your analysis."
      ]
    },
    {
      "cell_type": "markdown",
      "metadata": {
        "id": "UjT9MmYF8a_g"
      },
      "source": [
        "# 2. Creating a network using the Food page as a seed"
      ]
    },
    {
      "cell_type": "markdown",
      "metadata": {
        "id": "4esR-TXw8gQB"
      },
      "source": [
        "## 2.1 Defining the depth, getting the data and building the network"
      ]
    },
    {
      "cell_type": "code",
      "metadata": {
        "colab": {
          "base_uri": "https://localhost:8080/"
        },
        "id": "smv9cC-d8qoY",
        "outputId": "e2f491a3-671e-4462-d1f2-ca1f5e6be251"
      },
      "source": [
        "!pip install networkx==2.6.2 wikipedia"
      ],
      "execution_count": 47,
      "outputs": [
        {
          "output_type": "stream",
          "text": [
            "Requirement already satisfied: networkx==2.6.2 in /usr/local/lib/python3.7/dist-packages (2.6.2)\n",
            "Requirement already satisfied: wikipedia in /usr/local/lib/python3.7/dist-packages (1.4.0)\n",
            "Requirement already satisfied: requests<3.0.0,>=2.0.0 in /usr/local/lib/python3.7/dist-packages (from wikipedia) (2.23.0)\n",
            "Requirement already satisfied: beautifulsoup4 in /usr/local/lib/python3.7/dist-packages (from wikipedia) (4.6.3)\n",
            "Requirement already satisfied: certifi>=2017.4.17 in /usr/local/lib/python3.7/dist-packages (from requests<3.0.0,>=2.0.0->wikipedia) (2021.5.30)\n",
            "Requirement already satisfied: chardet<4,>=3.0.2 in /usr/local/lib/python3.7/dist-packages (from requests<3.0.0,>=2.0.0->wikipedia) (3.0.4)\n",
            "Requirement already satisfied: urllib3!=1.25.0,!=1.25.1,<1.26,>=1.21.1 in /usr/local/lib/python3.7/dist-packages (from requests<3.0.0,>=2.0.0->wikipedia) (1.24.3)\n",
            "Requirement already satisfied: idna<3,>=2.5 in /usr/local/lib/python3.7/dist-packages (from requests<3.0.0,>=2.0.0->wikipedia) (2.10)\n"
          ],
          "name": "stdout"
        }
      ]
    },
    {
      "cell_type": "code",
      "metadata": {
        "id": "Io1d3HN08uq7"
      },
      "source": [
        "from operator import itemgetter\n",
        "import networkx as nx\n",
        "import wikipedia"
      ],
      "execution_count": 48,
      "outputs": []
    },
    {
      "cell_type": "code",
      "metadata": {
        "id": "8c8L86Cn8xcn"
      },
      "source": [
        "SEED = \"Food\".title()"
      ],
      "execution_count": 49,
      "outputs": []
    },
    {
      "cell_type": "code",
      "metadata": {
        "id": "zgOuMlsq9EKD"
      },
      "source": [
        "todo_lst = [(0, SEED)] # The SEED is in the layer 0\n",
        "todo_set = set(SEED) # The SEED itself\n",
        "done_set = set() # Nothing is done yet"
      ],
      "execution_count": 50,
      "outputs": []
    },
    {
      "cell_type": "code",
      "metadata": {
        "id": "sK4WNS829H6W"
      },
      "source": [
        "g = nx.DiGraph()\n",
        "layer, page = todo_lst[0]"
      ],
      "execution_count": 51,
      "outputs": []
    },
    {
      "cell_type": "code",
      "metadata": {
        "colab": {
          "base_uri": "https://localhost:8080/"
        },
        "id": "m7YVbyOI9LrZ",
        "outputId": "1cb075da-55d7-45f0-abaf-6af98706c622"
      },
      "source": [
        "%%time\n",
        "while layer < 2:\n",
        "  # Remove the name page of the current page from the todo_lst, \n",
        "  # and add it to the set of processed pages. \n",
        "  # If the script encounters this page again, it will skip over it.\n",
        "  del todo_lst[0]\n",
        "  done_set.add(page)\n",
        "  \n",
        "  # Show progress\n",
        "  print(layer, page) \n",
        "  \n",
        "  # Attempt to download the selected page.\n",
        "  try:\n",
        "    wiki = wikipedia.page(page)\n",
        "  except:\n",
        "    layer, page = todo_lst[0]\n",
        "    print(\"Could not load\", page)\n",
        "    continue\n",
        "  \n",
        "  for link in wiki.links:\n",
        "    link = link.title()\n",
        "    if link not in STOPS and not link.startswith(\"List Of\"):\n",
        "      if link not in todo_set and link not in done_set:\n",
        "        todo_lst.append((layer + 1, link))\n",
        "        todo_set.add(link)\n",
        "      g.add_edge(page, link)\n",
        "  layer, page = todo_lst[0]"
      ],
      "execution_count": 52,
      "outputs": [
        {
          "output_type": "stream",
          "text": [
            "0 Food\n",
            "1 A Theory Of Justice\n",
            "1 Abrahamic Religions\n",
            "1 Adiaphora\n",
            "1 Ahura Mazda\n",
            "1 Alasdair Macintyre\n",
            "1 Altruism\n",
            "1 Ancient History\n",
            "1 Angel\n",
            "1 Angra Mainyu\n",
            "1 Animal Ethics\n",
            "1 Applied Ethics\n",
            "1 Arete (Moral Virtue)\n",
            "1 Aristotle\n",
            "1 Arthur Schopenhauer\n",
            "1 Augustine Of Hippo\n",
            "1 Autonomy\n",
            "Could not load Axiology\n",
            "1 Axiology\n",
            "1 Baruch Spinoza\n",
            "1 Beneficence (Ethics)\n",
            "1 Bernard Williams\n",
            "1 Beyond Good And Evil\n",
            "1 Biblical Inerrancy\n",
            "1 Biblical Infallibility\n",
            "1 Bioethics\n",
            "1 Buddhahood\n",
            "1 Buddhism\n",
            "1 Business Ethics\n",
            "1 Casuistry\n",
            "1 Central City, Kentucky\n",
            "1 Charity (Virtue)\n",
            "1 Charles H. Kahn\n",
            "Could not load Charles Taylor (Philosopher)\n",
            "1 Charles Taylor (Philosopher)\n",
            "1 Christian Ethics\n",
            "1 Christian Philosophy\n",
            "1 Christine Korsgaard\n",
            "1 Church Fathers\n",
            "1 Cicero\n",
            "1 Cognitivism (Ethics)\n",
            "1 Common Good\n",
            "1 Confucius\n",
            "1 Conscience\n",
            "Could not load Consent\n",
            "1 Consent\n",
            "1 Consequentialism\n",
            "1 Critique Of Practical Reason\n",
            "1 Cultural Universals\n",
            "1 Damnation\n",
            "1 David Hume\n",
            "1 David Sloan Wilson\n",
            "1 Democritus\n",
            "1 Deontological Ethics\n",
            "1 Derek Parfit\n",
            "1 Descriptive Ethics\n",
            "1 Devil\n",
            "1 Dichotomy\n",
            "1 Dietrich Bonhoeffer\n",
            "1 Diogenes\n",
            "1 Discourse Ethics\n",
            "1 Divine Command Theory\n",
            "1 Divine Law\n",
            "1 Donald Brown (Anthropologist)\n",
            "1 Dualistic Cosmology\n",
            "1 Duty\n",
            "1 E. O. Wilson\n",
            "1 Egalitarianism\n",
            "1 Emancipation\n",
            "1 Emotivism\n",
            "1 Engineering Ethics\n",
            "1 Enlightenment (Spiritual)\n",
            "1 Environmental Ethics\n",
            "1 Error Theory\n",
            "1 Ethical Intuitionism\n",
            "1 Ethical Naturalism\n",
            "1 Ethical Non-Naturalism\n",
            "1 Ethical Subjectivism\n",
            "1 Ethics\n",
            "Could not load Ethics In Religion\n",
            "1 Ethics In Religion\n",
            "1 Ethics Of Artificial Intelligence\n",
            "1 Ethics Of Care\n",
            "1 Ethics Of Eating Meat\n",
            "1 Ethics Of Technology\n",
            "1 Ethics Of Terraforming\n",
            "1 Ethics Of Uncertain Sentience\n",
            "1 Eudaimonia\n",
            "1 Eudemian Ethics\n",
            "1 Euthyphro\n",
            "1 Evil\n",
            "1 Evolutionary Ethics\n",
            "1 Existentialism\n",
            "1 Expressivism\n",
            "1 Extermination Of Evil\n",
            "1 Faravahar\n",
            "1 Feminist Ethics\n",
            "1 Form Of The Good\n",
            "1 Frans De Waal\n",
            "1 Free Will\n",
            "1 Friedrich Nietzsche\n",
            "1 G. E. M. Anscombe\n",
            "1 G. E. Moore\n",
            "1 Georg Wilhelm Friedrich Hegel\n",
            "1 Glaucon\n",
            "1 Gnosis\n"
          ],
          "name": "stdout"
        },
        {
          "output_type": "stream",
          "text": [
            "/usr/local/lib/python3.7/dist-packages/wikipedia/wikipedia.py:389: UserWarning: No parser was explicitly specified, so I'm using the best available HTML parser for this system (\"lxml\"). This usually isn't a problem, but if you run this code on another system, or in a different virtual environment, it may use a different parser and behave differently.\n",
            "\n",
            "The code that caused this warning is on line 389 of the file /usr/local/lib/python3.7/dist-packages/wikipedia/wikipedia.py. To get rid of this warning, pass the additional argument 'features=\"lxml\"' to the BeautifulSoup constructor.\n",
            "\n",
            "  lis = BeautifulSoup(html).find_all('li')\n"
          ],
          "name": "stderr"
        },
        {
          "output_type": "stream",
          "text": [
            "Could not load Gnosticism\n",
            "1 Gnosticism\n",
            "1 Gnostics\n",
            "1 Good (Disambiguation)\n",
            "Could not load Good (Religion)\n",
            "1 Good (Religion)\n",
            "1 Good And Evil\n",
            "1 Graded Absolutism\n",
            "1 Greater Iran\n",
            "1 Happiness\n",
            "1 Henry Sidgwick\n",
            "1 History Of Ethics\n",
            "1 Human Condition\n",
            "1 Human Evolution (Origins Of Society And Culture)\n",
            "1 Ideal (Ethics)\n",
            "1 Ideal Observer Theory\n",
            "1 Ideology\n",
            "1 Immanuel Kant\n",
            "1 Immorality\n",
            "1 Index Of Ethics Articles\n",
            "1 Inductive Reasoning\n",
            "1 Initiation\n",
            "1 Intelligibility (Philosophy)\n",
            "1 Islamic Ethics\n",
            "1 J. L. Mackie\n",
            "1 Jeremy Bentham\n",
            "1 Jeremy Griffith\n",
            "1 Jewish Ethics\n",
            "1 John Dewey\n",
            "1 John Rawls\n",
            "1 John Stuart Mill\n",
            "1 Joxe Azurmendi\n",
            "1 Justice\n",
            "Could not load Kant\n",
            "1 Kant\n",
            "Could not load Kantian Ethics\n",
            "1 Kantian Ethics\n",
            "1 Karl Barth\n",
            "1 Laozi\n",
            "Could not load Late Antiquity\n",
            "1 Late Antiquity\n",
            "1 Legal Ethics\n",
            "1 Lesser Of Two Evils Principle\n",
            "1 Liberty\n",
            "Could not load Life\n",
            "1 Life\n",
            "1 Light (Theology)\n",
            "1 Love\n",
            "Could not load Machine Ethics\n",
            "1 Machine Ethics\n",
            "1 Manichaeism\n",
            "1 Martha Nussbaum\n",
            "1 Media Ethics\n",
            "1 Medical Ethics\n",
            "1 Mencius\n",
            "1 Meta-Ethics\n",
            "1 Monism\n",
            "1 Monotheistic\n",
            "1 Moral Absolutism\n",
            "1 Moral Dilemma\n",
            "Could not load Moral Nihilism\n",
            "1 Moral Nihilism\n",
            "1 Moral Particularism\n",
            "1 Moral Psychology\n",
            "1 Moral Rationalism\n",
            "1 Moral Realism\n",
            "1 Moral Relativism\n",
            "Could not load Moral Skepticism\n",
            "1 Moral Skepticism\n",
            "1 Moral Universalism\n",
            "1 Morality\n",
            "1 Mozi\n",
            "Could not load Natural Law\n",
            "1 Natural Law\n",
            "1 Nature\n",
            "1 Necessary Evil\n",
            "1 Neoplatonists\n",
            "1 Nicomachean Ethics\n",
            "1 Non-Cognitivism\n",
            "1 Non-Physical Entity\n",
            "1 Norm (Philosophy)\n",
            "1 Norm (Social)\n",
            "1 Normative Ethics\n",
            "1 Nursing Ethics\n",
            "1 Objectivist Ethics\n",
            "1 On The Genealogy Of Morality\n",
            "1 Original Position\n",
            "1 Origins Of Morality\n",
            "1 Oxford University Press\n",
            "1 Pantheon (Gods)\n",
            "1 Paul Tillich\n",
            "1 Penguin Classics\n",
            "1 Peter Singer\n",
            "1 Philanthropy\n",
            "1 Philippa Foot\n",
            "1 Philosophy\n",
            "1 Philosophy Of Law\n",
            "1 Plato\n",
            "Could not load Political Freedom\n",
            "1 Political Freedom\n",
            "1 Political Philosophy\n",
            "1 Population Ethics\n",
            "1 Poverty\n",
            "1 Pragmatic Ethics\n",
            "1 Praise\n",
            "1 Pre-Socratic Philosophy\n",
            "1 Problem Of Evil\n",
            "1 Professional Ethics\n",
            "1 Punishment\n",
            "1 Quasi-Realism\n",
            "1 R. M. Hare\n",
            "1 Radical Evil\n",
            "1 Religion\n",
            "1 Righteousness\n",
            "1 Robert Merrihew Adams\n",
            "1 Role Ethics\n",
            "1 Sacred\n",
            "1 Saint\n",
            "1 Salvation\n",
            "1 Sect\n",
            "Could not load Sexual Abstinence\n",
            "1 Sexual Abstinence\n",
            "1 Sexual Ethics\n",
            "1 Sin\n",
            "1 Social Philosophy\n",
            "1 Socrates\n",
            "1 State (Polity)\n",
            "1 Stewardship\n",
            "1 Suffering\n",
            "1 Suffering-Focused Ethics\n",
            "1 Summum Bonum\n",
            "1 Supreme Good\n",
            "1 Sympathy\n",
            "1 Søren Kierkegaard\n",
            "1 Temple University Press\n",
            "1 Theocracy\n",
            "1 Theologian\n",
            "1 Thiruvalluvar\n",
            "1 Thomas Aquinas\n",
            "1 Thomas Nagel\n",
            "1 Three Wise Monkeys\n",
            "1 Transcendentals\n",
            "1 Tree Of The Knowledge Of Good And Evil\n",
            "1 Trust (Social Science)\n",
            "1 Universal Prescriptivism\n",
            "1 Utilitarianism\n",
            "1 Utopia\n",
            "1 Value (Ethics)\n",
            "1 Value Pluralism\n",
            "1 Value Theory\n",
            "1 Vatican Museum\n",
            "1 Virtue\n",
            "1 Virtue Ethics\n",
            "1 Wealth\n",
            "1 Welfarism\n",
            "1 William Frankena\n",
            "1 Wisdom\n",
            "1 Wrongdoing\n",
            "1 Xun Kuang\n",
            "1 Zoroaster\n",
            "1 Zoroastrianism\n",
            "1 Śūnyatā\n",
            "CPU times: user 11.9 s, sys: 728 ms, total: 12.6 s\n",
            "Wall time: 1min 58s\n"
          ],
          "name": "stdout"
        }
      ]
    },
    {
      "cell_type": "code",
      "metadata": {
        "colab": {
          "base_uri": "https://localhost:8080/"
        },
        "id": "lXQDtKSu9PcV",
        "outputId": "e19efd7d-ed9a-4367-9c56-7448252acf86"
      },
      "source": [
        "print(\"{} nodes, {} edges\".format(len(g), nx.number_of_edges(g)))"
      ],
      "execution_count": 53,
      "outputs": [
        {
          "output_type": "stream",
          "text": [
            "40247 nodes, 127924 edges\n"
          ],
          "name": "stdout"
        }
      ]
    },
    {
      "cell_type": "markdown",
      "metadata": {
        "id": "sxdlKBFAG-kD"
      },
      "source": [
        "## 2.2 Eliminate duplicates"
      ]
    },
    {
      "cell_type": "code",
      "metadata": {
        "id": "o3C4rfIoHC0x"
      },
      "source": [
        "original = g.copy()"
      ],
      "execution_count": 54,
      "outputs": []
    },
    {
      "cell_type": "code",
      "metadata": {
        "colab": {
          "base_uri": "https://localhost:8080/"
        },
        "id": "lawgix30H5KG",
        "outputId": "bacfefb9-c7b7-473f-d81a-5276912b0b83"
      },
      "source": [
        "# remove self loops\n",
        "g.remove_edges_from(nx.selfloop_edges(g))\n",
        "\n",
        "# identify duplicates like that: 'network' and 'networks'\n",
        "duplicates = [(node, node + \"s\") \n",
        "              for node in g if node + \"s\" in g\n",
        "             ]\n",
        "\n",
        "for dup in duplicates:\n",
        "  # *dup is a technique named 'unpacking'\n",
        "  g = nx.contracted_nodes(g, *dup, self_loops=False)\n",
        "\n",
        "print(duplicates)\n",
        "\n",
        "duplicates = [(x, y) for x, y in \n",
        "              [(node, node.replace(\"-\", \" \")) for node in g]\n",
        "                if x != y and y in g]\n",
        "print(duplicates)\n",
        "\n",
        "for dup in duplicates:\n",
        "  g = nx.contracted_nodes(g, *dup, self_loops=False)\n",
        "\n",
        "# nx.contracted creates a new node/edge attribute called contraction\n",
        "# the value of the attribute is a dictionary, but GraphML\n",
        "# does not support dictionary attributes\n",
        "nx.set_node_attributes(g, 0,\"contraction\")\n",
        "nx.set_edge_attributes(g, 0,\"contraction\")"
      ],
      "execution_count": 55,
      "outputs": [
        {
          "output_type": "stream",
          "text": [
            "[('Angel', 'Angels'), ('Moral Dilemma', 'Moral Dilemmas'), ('Natural Law', 'Natural Laws'), ('Religion', 'Religions'), ('Saint', 'Saints'), ('Theologian', 'Theologians'), ('Vatican Museum', 'Vatican Museums'), ('Virtue', 'Virtues'), ('Natural Right', 'Natural Rights'), ('Utilitarian', 'Utilitarians'), ('Abrahamic Religion', 'Abrahamic Religions'), ('Archangel', 'Archangels'), ('Christian Denomination', 'Christian Denominations'), ('Gentile', 'Gentiles'), ('God', 'Gods'), ('Gospel', 'Gospels'), ('Hebrew', 'Hebrews'), ('History Of Religion', 'History Of Religions'), ('Indigenous Religion', 'Indigenous Religions'), ('Israelite', 'Israelites'), ('Meditation', 'Meditations'), ('Muslim', 'Muslims'), ('New Religious Movement', 'New Religious Movements'), ('Non-Denominational Muslim', 'Non-Denominational Muslims'), ('Religious Belief', 'Religious Beliefs'), ('Religious Experience', 'Religious Experiences'), ('Religious Text', 'Religious Texts'), ('Sacrament', 'Sacraments'), ('Scroll', 'Scrolls'), ('Sectarian', 'Sectarians'), ('Social Movement', 'Social Movements'), ('Soul', 'Souls'), ('Buddha', 'Buddhas'), ('Dogma', 'Dogmas'), ('Puritan', 'Puritans'), ('Amesha Spenta', 'Amesha Spentas'), ('Brahman', 'Brahmans'), ('Daeva', 'Daevas'), ('Fire Temple', 'Fire Temples'), ('Mithra', 'Mithras'), ('Parsi', 'Parsis'), ('Sassanid', 'Sassanids'), ('Turkic People', 'Turkic Peoples'), ('Yazata', 'Yazatas'), ('Charitable Organization', 'Charitable Organizations'), ('Defence Mechanism', 'Defence Mechanisms'), ('Future Generation', 'Future Generations'), ('Sophist', 'Sophists'), ('Tirthankara', 'Tirthankaras'), ('Ancient Roman', 'Ancient Romans'), ('Anglo-Saxon', 'Anglo-Saxons'), ('Early Human Migration', 'Early Human Migrations'), ('Hephthalite', 'Hephthalites'), ('Jew', 'Jews'), ('Olmec', 'Olmecs'), ('Pharaoh', 'Pharaohs'), ('Political Science', 'Political Sciences'), ('Prakrit', 'Prakrits'), ('Rhetoric', 'Rhetorics'), ('Science', 'Sciences'), ('Angle', 'Angles'), ('Carmelite', 'Carmelites'), ('Demon', 'Demons'), ('Elemental', 'Elementals'), ('Human', 'Humans'), ('Human Being', 'Human Beings'), ('Icon', 'Icons'), ('Mosque', 'Mosques'), ('Nephite', 'Nephites'), ('Yama', 'Yamas'), ('Manichaean', 'Manichaeans'), ('Brain Implant', 'Brain Implants'), ('Ethical Code', 'Ethical Codes'), ('Ancient Greek', 'Ancient Greeks'), ('Adaptation', 'Adaptations'), ('Ant', 'Ants'), ('Bird', 'Birds'), ('Cephalopod', 'Cephalopods'), ('Dharma', 'Dharmas'), ('Law', 'Laws'), ('Philosopher', 'Philosophers'), ('Plant', 'Plants'), ('Pythia', 'Pythias'), ('Scientific Law', 'Scientific Laws'), ('Speech Act', 'Speech Acts'), ('Tyrant', 'Tyrants'), ('Art', 'Arts'), ('Axiom', 'Axioms'), ('Natural Science', 'Natural Sciences'), ('Painting', 'Paintings'), ('Belief', 'Beliefs'), ('Christian Martyr', 'Christian Martyrs'), ('Christian Tradition', 'Christian Traditions'), ('Dialogue', 'Dialogues'), ('Donatist', 'Donatists'), ('Hebrew Scripture', 'Hebrew Scriptures'), ('Heuristic', 'Heuristics'), ('Neoplatonist', 'Neoplatonists'), ('Patriarchate', 'Patriarchates'), ('Person', 'Persons'), ('Samaritan', 'Samaritans'), ('Shrine', 'Shrines'), ('Premise', 'Premises'), ('Apollo', 'Apollos'), ('Atheist', 'Atheists'), ('Free Market', 'Free Markets'), ('Jesuit', 'Jesuits'), ('Mennonite', 'Mennonites'), ('Nontheistic Religion', 'Nontheistic Religions'), ('Parody Religion', 'Parody Religions'), ('Psychologist', 'Psychologists'), ('Clinical Trial', 'Clinical Trials'), ('Possible World', 'Possible Worlds'), ('Protestant', 'Protestants'), ('End Time', 'End Times'), ('Mormon', 'Mormons'), ('Patristic', 'Patristics'), ('Scripture', 'Scriptures'), ('Blood Transfusion', 'Blood Transfusions'), ('Buddhist', 'Buddhists'), ('Hindu', 'Hindus'), ('Moral', 'Morals'), ('Moral Value', 'Moral Values'), ('Stem Cell', 'Stem Cells'), ('Bodhisattva', 'Bodhisattvas'), ('Mantra', 'Mantras'), ('Skandha', 'Skandhas'), ('Indian Religion', 'Indian Religions'), ('Indo-Gangetic Plain', 'Indo-Gangetic Plains'), ('Shakya', 'Shakyas'), ('Upanishad', 'Upanishads'), ('Environmental Issue', 'Environmental Issues'), ('Trade Union', 'Trade Unions'), ('First Principle', 'First Principles'), ('Apostle', 'Apostles'), ('Cardinal Virtue', 'Cardinal Virtues'), ('Theological Virtue', 'Theological Virtues'), ('Massey Lecture', 'Massey Lectures'), ('Crusade', 'Crusades'), ('John Hick', 'John Hicks'), ('Social Science', 'Social Sciences'), ('Jewish Christian', 'Jewish Christians'), ('Visigoth', 'Visigoths'), ('Lost Work', 'Lost Works'), ('Optimate', 'Optimates'), ('Roman Aqueduct', 'Roman Aqueducts'), ('Roman Emperor', 'Roman Emperors'), ('Ancestral Shrine', 'Ancestral Shrines'), ('Ancestral Temple', 'Ancestral Temples'), ('Chinese Salvationist Religion', 'Chinese Salvationist Religions'), ('Veda', 'Vedas'), ('Dignitary Tort', 'Dignitary Torts'), ('Life Stance', 'Life Stances'), ('Social Norm', 'Social Norms'), ('Stereotype', 'Stereotypes'), ('Taboo', 'Taboos'), ('Tort', 'Torts'), ('Gender Role', 'Gender Roles'), ('Minced Oath', 'Minced Oaths'), ('Merchant', 'Merchants'), ('Physical Law', 'Physical Laws'), ('Evolutionary Biologist', 'Evolutionary Biologists'), ('Mandaean', 'Mandaeans'), ('Nazi', 'Nazis'), ('Pacifist', 'Pacifists'), ('Court', 'Courts'), ('Legislature', 'Legislatures'), ('Baptist', 'Baptists'), ('Deist', 'Deists'), ('Freedom', 'Freedoms'), ('Engineer', 'Engineers'), ('Totem', 'Totems'), ('Decision Tree', 'Decision Trees'), ('Neural Network', 'Neural Networks'), ('Rational Agent', 'Rational Agents'), ('Snake', 'Snakes'), ('Eugenic', 'Eugenics'), ('Puppy Mill', 'Puppy Mills'), ('Socrate', 'Socrates'), ('Socratic Dialogue', 'Socratic Dialogues'), ('Eukaryote', 'Eukaryotes'), ('Feminist', 'Feminists'), ('Macaque', 'Macaques'), ('Skeptic', 'Skeptics'), ('Deliberation', 'Deliberations'), ('Jain', 'Jains'), ('Anthropologist', 'Anthropologists'), ('Sovereign State', 'Sovereign States'), ('Carbonic Anhydrase Inhibitor', 'Carbonic Anhydrase Inhibitors'), ('Sense', 'Senses'), ('Bogomil', 'Bogomils'), ('Cainite', 'Cainites'), ('Ennead', 'Enneads'), ('Gnostic', 'Gnostics'), ('Social Structure', 'Social Structures'), ('Kharijite', 'Kharijites'), ('Kurdish Language', 'Kurdish Languages'), ('Safavid', 'Safavids'), ('Seleucid', 'Seleucids'), ('Anatomically Modern Human', 'Anatomically Modern Humans'), ('Cultural Universal', 'Cultural Universals'), ('Denisovan', 'Denisovans'), ('Venus Figurine', 'Venus Figurines'), ('Jungian Archetype', 'Jungian Archetypes'), ('Moral Science', 'Moral Sciences'), ('Iranian Calendar', 'Iranian Calendars'), ('Statistic', 'Statistics'), ('Number', 'Numbers'), ('Abbasid', 'Abbasids'), ('Arab', 'Arabs'), ('Caliph', 'Caliphs'), ('Cultural Muslim', 'Cultural Muslims'), ('Slave', 'Slaves'), ('Unintended Consequence', 'Unintended Consequences'), ('Rationalist', 'Rationalists'), ('Calvinist', 'Calvinists'), ('Roman Road', 'Roman Roads'), ('Samo', 'Samos'), ('Military Robot', 'Military Robots'), ('Cathar', 'Cathars'), ('Princess Of Asturias Award', 'Princess Of Asturias Awards'), ('Islamic Law', 'Islamic Laws'), ('Truth-Value', 'Truth-Values'), ('Sikh', 'Sikhs'), ('Anglican', 'Anglicans'), ('Molecule', 'Molecules'), ('Natural Hazard', 'Natural Hazards'), ('Plate Tectonic', 'Plate Tectonics'), ('Sponge', 'Sponges'), ('Ethnic Group', 'Ethnic Groups'), ('Intellectual Virtue', 'Intellectual Virtues'), ('Infectious Disease', 'Infectious Diseases'), ('Social Construct', 'Social Constructs'), ('Academic Journal', 'Academic Journals'), ('Billionaire', 'Billionaires'), ('Tax Haven', 'Tax Havens'), ('Aid', 'Aids'), ('Economic', 'Economics'), ('Criminal', 'Criminals'), ('Study Of Religion', 'Study Of Religions'), ('Theories Of Religion', 'Theories Of Religions'), ('Traditional African Religion', 'Traditional African Religions'), ('Pono', 'Ponos'), ('Psalm', 'Psalms'), ('Relic', 'Relics'), ('Copper Iud', 'Copper Iuds'), ('Hormonal Iud', 'Hormonal Iuds'), ('Sodomy Law', 'Sodomy Laws'), ('Indigenous People', 'Indigenous Peoples'), ('National Symbol', 'National Symbols'), ('Vassal', 'Vassals'), ('Ethic', 'Ethics'), ('Cyrenaic', 'Cyrenaics'), ('Epicurean', 'Epicureans'), ('Beatitude', 'Beatitudes'), ('Papal State', 'Papal States'), ('Sport', 'Sports'), ('Cistercian', 'Cistercians'), ('Mendicant Order', 'Mendicant Orders'), ('Rolf Schock Prize', 'Rolf Schock Prizes'), ('Social Action', 'Social Actions'), ('Neologism', 'Neologisms'), ('Borgia Apartment', 'Borgia Apartments'), ('Asset', 'Assets'), ('Macroeconomic', 'Macroeconomics'), ('Saving', 'Savings'), ('Taoist', 'Taoists'), ('Iranian People', 'Iranian Peoples'), ('Pahlavi Script', 'Pahlavi Scripts'), ('Niyama', 'Niyamas'), ('Sarvastivadin', 'Sarvastivadins')]\n",
            "[('Al-Farabi', 'Al Farabi'), ('Pierre-Joseph Proudhon', 'Pierre Joseph Proudhon'), ('Thing-In-Itself', 'Thing In Itself'), ('English-Language', 'English Language'), ('German-Language', 'German Language'), ('Buddha-Nature', 'Buddha Nature'), ('Rent-Seeking', 'Rent Seeking'), ('Right-Libertarianism', 'Right Libertarianism'), ('Karl-Friedrich Bonhoeffer', 'Karl Friedrich Bonhoeffer'), ('Bas-Relief', 'Bas Relief'), ('Court-Martial', 'Court Martial'), ('Mcgraw-Hill', 'Mcgraw Hill'), ('Open-Question Argument', 'Open Question Argument'), ('Being-In-Itself', 'Being In Itself'), ('Prentice-Hall', 'Prentice Hall'), ('Philosopher-King', 'Philosopher King'), (\"Alvin Plantinga'S Free-Will Defense\", \"Alvin Plantinga'S Free Will Defense\"), ('Exchange-Value', 'Exchange Value'), ('Use-Value', 'Use Value'), ('Middle-Persian', 'Middle Persian'), ('Tit-For-Tat', 'Tit For Tat'), ('Working-Class', 'Working Class'), ('Social-Welfare', 'Social Welfare'), ('Decision-Making', 'Decision Making'), ('Means-To-An-End', 'Means To An End'), ('Pierre-Simon Laplace', 'Pierre Simon Laplace'), ('Truth-Value', 'Truth Value'), ('Right-To-Life', 'Right To Life'), ('African-Americans', 'African Americans'), ('Consensus Decision-Making', 'Consensus Decision Making'), ('Free-Market', 'Free Market'), ('Nation-State', 'Nation State'), ('Bait-And-Switch', 'Bait And Switch'), ('Public-Order Crime', 'Public Order Crime'), ('Latter-Day Saint Movement', 'Latter Day Saint Movement'), ('Seicho-No-Ie', 'Seicho No Ie'), ('High-Church', 'High Church'), ('First-Degree Relative', 'First Degree Relative'), ('End-In-Itself', 'End In Itself'), ('Middle-East', 'Middle East')]\n"
          ],
          "name": "stdout"
        }
      ]
    },
    {
      "cell_type": "code",
      "metadata": {
        "colab": {
          "base_uri": "https://localhost:8080/"
        },
        "id": "O2VcWEc3H745",
        "outputId": "40414384-6a03-43ae-e62f-01c817133a6c"
      },
      "source": [
        "print(\"{} nodes, {} edges\".format(len(g), nx.number_of_edges(g)))"
      ],
      "execution_count": 56,
      "outputs": [
        {
          "output_type": "stream",
          "text": [
            "39936 nodes, 127748 edges\n"
          ],
          "name": "stdout"
        }
      ]
    },
    {
      "cell_type": "markdown",
      "metadata": {
        "id": "pfkGZQJkKNvs"
      },
      "source": [
        "## 2.3 Truncate the network"
      ]
    },
    {
      "cell_type": "code",
      "metadata": {
        "colab": {
          "base_uri": "https://localhost:8080/",
          "height": 407
        },
        "id": "bjWDYjySKQZS",
        "outputId": "0e52f10d-8866-4b8a-96aa-2c33c1c2de01"
      },
      "source": [
        "from matplotlib import pyplot as plt\n",
        "plt.style.use(\"default\")\n",
        "# degree sequence\n",
        "degree_sequence = sorted([d for n, d in g.degree()], reverse=True)  \n",
        "fig, ax = plt.subplots(1,2,figsize=(8,4))\n",
        "\n",
        "# all_data has information about degree_sequence and the width of each bin\n",
        "ax[0].hist(degree_sequence)\n",
        "ax[1].hist(degree_sequence,bins=[1,2,3,4,5,6,7,8,9,10])\n",
        "\n",
        "ax[0].set_title(\"Degree Histogram\")\n",
        "ax[0].set_ylabel(\"Count\")\n",
        "ax[0].set_xlabel(\"Degree\")\n",
        "ax[0].set_ylim(0,15000)\n",
        "\n",
        "ax[1].set_title(\"Degree Histogram - Zoom\")\n",
        "ax[1].set_ylabel(\"Count\")\n",
        "ax[1].set_xlabel(\"Degree\")\n",
        "ax[1].set_xlim(0,10)\n",
        "ax[1].set_ylim(0,15000)\n",
        "\n",
        "plt.tight_layout()\n",
        "plt.show()"
      ],
      "execution_count": 57,
      "outputs": [
        {
          "output_type": "display_data",
          "data": {
            "image/png": "[encoded data removed]",
            "text/plain": [
              "<Figure size 800x400 with 2 Axes>"
            ]
          },
          "metadata": {}
        }
      ]
    },
    {
      "cell_type": "code",
      "metadata": {
        "colab": {
          "base_uri": "https://localhost:8080/"
        },
        "id": "PwqbXwcARzK_",
        "outputId": "a7cac351-5f0e-4438-fd45-c56f009d4ec3"
      },
      "source": [
        "# filter nodes with degree greater than or equal to 2\n",
        "core = [node for node, deg in dict(g.degree()).items() if deg >= 2]\n",
        "\n",
        "# select a subgraph with 'core' nodes\n",
        "gsub = nx.subgraph(g, core)\n",
        "\n",
        "print(\"{} nodes, {} edges\".format(len(gsub), nx.number_of_edges(gsub)))\n",
        "\n",
        "nx.write_graphml(gsub, \"cna.graphml\")"
      ],
      "execution_count": 60,
      "outputs": [
        {
          "output_type": "stream",
          "text": [
            "14022 nodes, 101834 edges\n"
          ],
          "name": "stdout"
        }
      ]
    },
    {
      "cell_type": "code",
      "metadata": {
        "colab": {
          "base_uri": "https://localhost:8080/"
        },
        "id": "9eg3j2upR0HH",
        "outputId": "9e869fb1-e6ed-495f-f75a-e50f16a145a4"
      },
      "source": [
        "print(\"Nodes removed: {:.2f}%\".format(100*(1 - len(gsub)/len(g))))\n",
        "print(\"Edges removed: {:.2f}%\".format(100*(1 - nx.number_of_edges(gsub)/nx.number_of_edges(g))))\n",
        "print(\"Edges per nodes: {:.2f}\".format(nx.number_of_edges(gsub)/len(gsub)))"
      ],
      "execution_count": 61,
      "outputs": [
        {
          "output_type": "stream",
          "text": [
            "Nodes removed: 64.89%\n",
            "Edges removed: 20.29%\n",
            "Edges per nodes: 7.26\n"
          ],
          "name": "stdout"
        }
      ]
    }
  ]
}